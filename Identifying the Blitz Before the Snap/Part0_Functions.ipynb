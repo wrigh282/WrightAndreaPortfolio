{
 "cells": [
  {
   "cell_type": "markdown",
   "id": "9eccf3a4-5a91-483d-8f91-fe0194f95d9b",
   "metadata": {},
   "source": [
    "# Functions"
   ]
  },
  {
   "cell_type": "markdown",
   "id": "19285da4-df03-4f31-a61e-7444f2879b4a",
   "metadata": {},
   "source": [
    "This notebook contains functions used throughout the main project. "
   ]
  },
  {
   "cell_type": "code",
   "execution_count": 1,
   "id": "ec21147b-34c0-4272-bcc8-f053053f0ddc",
   "metadata": {},
   "outputs": [],
   "source": [
    "import numpy as np\n",
    "import pandas as pd\n",
    "import seaborn as sns"
   ]
  },
  {
   "cell_type": "markdown",
   "id": "9a43ab85-77d5-4ec8-9817-cf5e033b50ef",
   "metadata": {},
   "source": [
    "### Plot a frame, `plot_one_frame`"
   ]
  },
  {
   "cell_type": "code",
   "execution_count": 2,
   "id": "9175a027-bba0-4200-9b31-b356f19637c2",
   "metadata": {},
   "outputs": [],
   "source": [
    "def plot_one_frame(fid, gid, pid, play):\n",
    "    \n",
    "    '''\n",
    "    fid = frame id\n",
    "    gid = game id\n",
    "    pid = play id\n",
    "    play = a dataframe of the play you would like to plot\n",
    "    \n",
    "    *** This has been adapated from XXXXXXXXXX***\n",
    "\n",
    "    '''\n",
    "    \n",
    "    one_frame = play.loc[play['frameId']==fid]\n",
    "\n",
    "    # los obtained from position of the ball during its first instance (as placed by ref)\n",
    "    los = play.loc[(play['frameId']==1) & (play['team']=='football'), 'x'].values[0]\n",
    "\n",
    "    fig1 = sns.scatterplot(x='x',y='y',data=one_frame, \n",
    "                             hue='team', s=100)\n",
    "\n",
    "    # set the x and y graph limits to the entire field (from kaggle BDB page)\n",
    "    fig1.set_xlim(-10,110)    \n",
    "    fig1.set_ylim(0,54) \n",
    "\n",
    "    # plots line of scrimmage \n",
    "    fig1.axvline(los, c='k', ls=':')\n",
    "\n",
    "    # plots a simple end zone \n",
    "    fig1.axvline(0, c='k', ls='-')\n",
    "    fig1.axvline(100, c='k', ls='-')\n",
    "\n",
    "    # game and play IDs as the title\n",
    "    fig1.set_title(f\"game {gid} play {pid} frame {fid}\")\n",
    "\n",
    "    # takes out the legend (if you leave this, you'll get an annoying legend)\n",
    "    fig1.legend([]).set_visible(False)\n",
    "\n",
    "    # takes out the left, top, and right borders on the graph \n",
    "    #sns.despine(left=True)\n",
    "\n",
    "    # no y axis label\n",
    "    fig1.set_ylabel('')\n",
    "\n",
    "    # no y axis tick marks\n",
    "    fig1.set_yticks([])\n",
    "    \n",
    "    #fig1.show()"
   ]
  },
  {
   "cell_type": "markdown",
   "id": "9c694e26-16fd-43f8-9da2-541687083274",
   "metadata": {},
   "source": [
    "### Define the offensive backfield, `def_off_back`"
   ]
  },
  {
   "cell_type": "code",
   "execution_count": 5,
   "id": "60411c24-ba35-4497-ab03-d662c8c1328b",
   "metadata": {},
   "outputs": [],
   "source": [
    "def def_off_back (pid, off):\n",
    "    '''\n",
    "    INPUT:\n",
    "        pid: df of play (as noted by playId) we are considering\n",
    "        off: string containing name of offensive team\n",
    "    \n",
    "    OUTPUT:\n",
    "        dataframe containing set of (x,y) coordinates that define offensive backfield\n",
    "    '''\n",
    "    # O-line is jersey #s 50-79\n",
    "    Oline = list(range(50,80,1))\n",
    "    # get home Olinemen in their own df to examine los\n",
    "    O_play = pid.loc[(pid['jerseyNumber'].isin(Oline)) & (pid['team']==off)]\n",
    "    \n",
    "    snap = O_play.loc[O_play['event'] == 'ball_snap'] # take measurements at ball_snap\n",
    "    x = snap.x.mean() # get mean of offensive linemen x-position on field\n",
    "    # any space behind this line is defined as the offensive backfield\n",
    "    y = np.linspace(0, 54, 50)\n",
    "\n",
    "    return(pd.DataFrame({'x':x, 'y':y}))"
   ]
  }
 ],
 "metadata": {
  "kernelspec": {
   "display_name": "Python 3 (ipykernel)",
   "language": "python",
   "name": "python3"
  },
  "language_info": {
   "codemirror_mode": {
    "name": "ipython",
    "version": 3
   },
   "file_extension": ".py",
   "mimetype": "text/x-python",
   "name": "python",
   "nbconvert_exporter": "python",
   "pygments_lexer": "ipython3",
   "version": "3.8.13"
  }
 },
 "nbformat": 4,
 "nbformat_minor": 5
}
