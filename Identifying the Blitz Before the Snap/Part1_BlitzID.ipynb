{
 "cells": [
  {
   "cell_type": "markdown",
   "id": "b1cfbb1e-2832-4626-8879-813c9dbef972",
   "metadata": {},
   "source": [
    "# Project Part 1: Identify the Blitz"
   ]
  },
  {
   "cell_type": "markdown",
   "id": "4fcdbabe-a2bd-4727-81c2-7bfc2ffb5df1",
   "metadata": {},
   "source": [
    "A defensive blitz is when 5+ defensive players rush into the offensive zone. This notebook identifies the blitz on each play.\n",
    "\n",
    "In its current state, each week must be run by altering the second chunk of code with the line denoting `weekNum`. Future adjustments would loop through each file so that the notebook would only be run a single time. "
   ]
  },
  {
   "cell_type": "code",
   "execution_count": 1,
   "id": "94c474d5-5967-4245-8d46-60fc6f99f1e9",
   "metadata": {},
   "outputs": [],
   "source": [
    "import pandas as pd\n",
    "import numpy as np\n",
    "from ipynb.fs.full.Functions import *       # import functions from Functions.ipynb\n",
    "import matplotlib.pyplot as plt\n",
    "pd.set_option('display.max_columns', None)\n",
    "pd.options.mode.chained_assignment = None  # default='warn'"
   ]
  },
  {
   "cell_type": "code",
   "execution_count": 42,
   "id": "c3adcd16-a9f4-4a04-b60f-cace86bf5e33",
   "metadata": {},
   "outputs": [],
   "source": [
    "# read in csv files \n",
    "\n",
    "#### URGENT:  what week is it? ###\n",
    "weekNum = 8\n",
    "filename = 'week' + str(weekNum) + '.csv'\n",
    "\n",
    "week = pd.read_csv(filename)"
   ]
  },
  {
   "cell_type": "code",
   "execution_count": 12,
   "id": "3862c1ae-ae73-4912-8117-19dced59d1b7",
   "metadata": {},
   "outputs": [],
   "source": [
    "# cont. read csv files, these are the same regardless of week\n",
    "players = pd.read_csv('players.csv')\n",
    "all_plays = pd.read_csv('plays.csv')"
   ]
  },
  {
   "cell_type": "code",
   "execution_count": 43,
   "id": "3a5d047d-c03f-4051-b7f7-d589a54eda27",
   "metadata": {},
   "outputs": [],
   "source": [
    "# subset all_plays to include only those from week in question\n",
    "plays_wk = all_plays[all_plays['gameId'].isin(week['gameId'])]\n",
    "# create column where we will assign a blitz, 1 (or not, 0)\n",
    "plays_wk['numBackfield'] = 0\n",
    "plays_wk['isBlitz'] = 0\n",
    "plays_wk['weekNum'] = weekNum"
   ]
  },
  {
   "cell_type": "code",
   "execution_count": 44,
   "id": "0e99ae75-7aa4-40d7-b4a3-1620f1c3a437",
   "metadata": {},
   "outputs": [],
   "source": [
    "# get gameIds of the games for the week\n",
    "gameIdAll = plays_wk['gameId'].unique()"
   ]
  },
  {
   "cell_type": "code",
   "execution_count": 45,
   "id": "c41246d7-392c-4b87-b745-8df5da32d685",
   "metadata": {},
   "outputs": [],
   "source": [
    "for game in gameIdAll:      # loop through all games\n",
    "    # get the plays associated with this particular game\n",
    "    playIdAll = plays_wk.loc[plays_wk['gameId'] == game, 'playId'].unique()\n",
    "    for play in playIdAll:  # loop through all plays of this game\n",
    "        ## SET UP PLAY AND ROSTER ##\n",
    "        # get offense and defense\n",
    "        offenseS = plays_wk.loc[(plays_wk['gameId'] == game) & (plays_wk['playId'] == play), 'possessionTeam']#.iloc[0]\n",
    "        offense = offenseS.iloc[0]\n",
    "        defenseS = plays_wk.loc[(plays_wk['gameId'] == game) & (plays_wk['playId'] == play), 'defensiveTeam']#.iloc[0]\n",
    "        defense = defenseS.iloc[0]\n",
    "\n",
    "        # store the current play in its own df\n",
    "        currentPlay = week.loc[(week['gameId']==game) & (week['playId']==play)]\n",
    "        \n",
    "        # who is in this play?\n",
    "        roster_play = players[players['nflId'].isin(currentPlay['nflId'])]\n",
    "        # who is the qb of this play?\n",
    "        qb_id = roster_play.loc[roster_play['officialPosition'] == 'QB'].nflId.tolist()[0]\n",
    "        \n",
    "        ## IDENTIFY OFFENSIVE ZONE ##\n",
    "        ## The offensive zone is defined as a rectangle that spans the width of the field and begins at the offensive line ##\n",
    "        backfield_df = def_off_back(currentPlay, offense) \n",
    "        \n",
    "        ## EVALUTE THE PLAY FOR A BLITZ ##\n",
    "        ## Here, we check if 5+ defensive plays enter the offensive zone. If there are 5+, this is a blitz. ##\n",
    "        # get defensive players\n",
    "        D_play = currentPlay.loc[currentPlay.team == defense]\n",
    "        D_play = D_play.sort_values(by='frameId')\n",
    "        \n",
    "        # for plotting purposes, get everyone else too\n",
    "        O_play = currentPlay.loc[(currentPlay['nflId'] != qb_id) & (currentPlay['team']!=defense)]\n",
    "        O_play = O_play.sort_values(by='frameId')\n",
    "        \n",
    "        # get the same information, but for QB only\n",
    "        QB_play = currentPlay.loc[currentPlay['nflId']==qb_id]\n",
    "        QB_play = QB_play.sort_values(by='frameId')\n",
    "        \n",
    "        # get the same information, but for the ball\n",
    "        ball_play = currentPlay.loc[currentPlay['team']=='football']\n",
    "        ball_play = ball_play.sort_values(by='frameId')\n",
    "        \n",
    "        # what direction is play? defensive will move opposite\n",
    "        # if play direction is 'right', we are looking for x values to get smaller\n",
    "        # if play direction is 'left', we are looking for x values to get bigger\n",
    "        play_direction = D_play.playDirection.iloc[0]\n",
    "        \n",
    "    \n",
    "        # this could be a function... edit later\n",
    "\n",
    "        # do any defensive players cross into the backfield (the answer will be yes)\n",
    "        # get the frame that they FIRST step into the backfield\n",
    "\n",
    "        # still like jerseyNumber here over nflId bc that is what will be used in animation + more familiar to readers/viewers\n",
    "\n",
    "        D_jerseys = D_play.jerseyNumber.unique()\n",
    "        firsts = pd.DataFrame(columns=[\"jerseyNumber\", \"backfield_frame\"]) # hold these first values in a dataframe\n",
    "        for player in D_jerseys: # for each player...  make sure to add an edit for R/L later </>\n",
    "            if play_direction == 'right':\n",
    "                # check: do they cross into the offensive backfield?\n",
    "                if (D_play[(D_play.jerseyNumber == player) & (D_play.x < backfield_df.x.loc[0])]).empty == False: \n",
    "                    # if a player has x-coordinates that are located in the offensive backfield, \n",
    "                    # print(f'player jersey #{player} has crossed into offensive backfield')\n",
    "                    # append his jerseyNumber and the frameId where he crossed to the dataframe `firsts`\n",
    "                    frame = (D_play[(D_play.jerseyNumber == player) & (D_play.x < backfield_df.x.loc[0])]).frameId.iloc[0]\n",
    "                    new_entry = pd.DataFrame({'jerseyNumber': player, 'backfield_frame': frame}, index=[0])\n",
    "                    firsts = pd.concat([new_entry,firsts.loc[:]]).reset_index(drop=True)       \n",
    "                else:\n",
    "                    # else, a player does NOT have any x-coordinates in the offensive backfield, \n",
    "                    # print(f'player jersey #{player} DID NOT cross into offensive backfield')\n",
    "                    pass\n",
    "            else: # play_direction == 'left'\n",
    "                # check: do they cross into the offensive backfield?\n",
    "                if (D_play[(D_play.jerseyNumber == player) & (D_play.x > backfield_df.x.loc[0])]).empty == False: \n",
    "                    # if a player has x-coordinates that are located in the offensive backfield, \n",
    "                    # print(f'player jersey #{player} has crossed into offensive backfield')\n",
    "                    # append his jerseyNumber and the frameId where he crossed to the dataframe `firsts`\n",
    "                    frame = (D_play[(D_play.jerseyNumber == player) & (D_play.x > backfield_df.x.loc[0])]).frameId.iloc[0]\n",
    "                    new_entry = pd.DataFrame({'jerseyNumber': player, 'backfield_frame': frame}, index=[0])\n",
    "                    firsts = pd.concat([new_entry,firsts.loc[:]]).reset_index(drop=True)       \n",
    "                else:\n",
    "                    # else, a player does NOT have any x-coordinates in the offensive backfield, \n",
    "                    # print(f'player jersey #{player} DID NOT cross into offensive backfield')\n",
    "                    pass\n",
    "        \n",
    "        \n",
    "        # how many cross into the backfield?\n",
    "        num_backfield = len(firsts)\n",
    "        plays_wk.loc[(plays_wk['gameId'] == game) & (plays_wk['playId'] == play), 'numBackfield'] = num_backfield\n",
    "\n",
    "        \n",
    "        # who are they? and when did they cross (at what frame)?\n",
    "        # firsts\n",
    "        \n",
    "        if num_backfield >= 5:\n",
    "            plays_wk.loc[(plays_wk['gameId'] == game) & (plays_wk['playId'] == play), 'isBlitz'] = 1\n",
    "        else:\n",
    "            plays_wk.loc[(plays_wk['gameId'] == game) & (plays_wk['playId'] == play), 'isBlitz'] = 0\n"
   ]
  },
  {
   "cell_type": "code",
   "execution_count": 46,
   "id": "e736d820-446b-45d2-8e77-5fed015e6d5f",
   "metadata": {},
   "outputs": [],
   "source": [
    "# save df with new columns to file\n",
    "newfilename = 'week' + str(weekNum) + '_wBlitz.csv'\n",
    "\n",
    "plays_wk.to_csv(newfilename)"
   ]
  }
 ],
 "metadata": {
  "kernelspec": {
   "display_name": "Python 3 (ipykernel)",
   "language": "python",
   "name": "python3"
  },
  "language_info": {
   "codemirror_mode": {
    "name": "ipython",
    "version": 3
   },
   "file_extension": ".py",
   "mimetype": "text/x-python",
   "name": "python",
   "nbconvert_exporter": "python",
   "pygments_lexer": "ipython3",
   "version": "3.8.13"
  }
 },
 "nbformat": 4,
 "nbformat_minor": 5
}
